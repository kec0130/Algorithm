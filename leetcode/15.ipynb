{
 "cells": [
  {
   "cell_type": "markdown",
   "metadata": {},
   "source": [
    "### 15. 3Sum"
   ]
  },
  {
   "cell_type": "code",
   "execution_count": null,
   "metadata": {},
   "outputs": [],
   "source": [
    "# 6556ms\n",
    "class Solution:\n",
    "    def threeSum(self, nums: List[int]) -> List[List[int]]:\n",
    "        nums.sort()\n",
    "        result = []\n",
    "        # 요소가 3개 미만이면 빈 리스트 리턴\n",
    "        if len(nums) < 3:\n",
    "            return result\n",
    "        # 투 포인터로 범위 좁혀가며 합 계산\n",
    "        for i in range(len(nums)-2):            \n",
    "            left, right = i+1, len(nums)-1\n",
    "            while left < right:\n",
    "                sum = nums[left] + nums[i] + nums[right]\n",
    "                if sum < 0:\n",
    "                    left += 1\n",
    "                elif sum > 0:\n",
    "                    right -= 1\n",
    "                else:\n",
    "                    # 합이 0이 되는 세 수를 리스트에 추가\n",
    "                    result.append([nums[left], nums[i], nums[right]])\n",
    "                    left += 1\n",
    "                    right -= 1\n",
    "        # 중복 제거 위해 정렬\n",
    "        for j in range(len(result)):\n",
    "            result[j].sort\n",
    "        # 중복 제거\n",
    "        answer = []\n",
    "        for k in result:\n",
    "            if k not in answer:\n",
    "                answer.append(k)\n",
    "        return answer"
   ]
  },
  {
   "cell_type": "code",
   "execution_count": null,
   "metadata": {},
   "outputs": [],
   "source": [
    "# 교재 풀이 (1060ms)\n",
    "class Solution:\n",
    "    def threeSum(self, nums: List[int]) -> List[List[int]]:\n",
    "        nums.sort()\n",
    "        result = []\n",
    "        \n",
    "        for i in range(len(nums)-2):\n",
    "            # 중복값 skip\n",
    "            if i > 0 and nums[i] == nums[i-1]:\n",
    "                continue\n",
    "            # 투 포인터로 범위 좁혀가며 합 계산\n",
    "            left, right = i+1, len(nums)-1\n",
    "            while left < right:\n",
    "                if nums[left] + nums[i] + nums[right] < 0:\n",
    "                    left += 1\n",
    "                elif nums[left] + nums[i] + nums[right] > 0:\n",
    "                    right -= 1\n",
    "                else:\n",
    "                    # 합이 0이 되는 세 수를 리스트에 추가\n",
    "                    result.append([nums[left], nums[i], nums[right]])\n",
    "                    # 중복값 skip\n",
    "                    while left < right and nums[left] == nums[left+1]:\n",
    "                        left += 1\n",
    "                    while left < right and nums[right] == nums[right-1]:\n",
    "                        right -= 1\n",
    "                    left += 1\n",
    "                    right -= 1\n",
    "        return result"
   ]
  }
 ],
 "metadata": {
  "kernelspec": {
   "display_name": "Python 3",
   "language": "python",
   "name": "python3"
  },
  "language_info": {
   "codemirror_mode": {
    "name": "ipython",
    "version": 3
   },
   "file_extension": ".py",
   "mimetype": "text/x-python",
   "name": "python",
   "nbconvert_exporter": "python",
   "pygments_lexer": "ipython3",
   "version": "3.7.6"
  }
 },
 "nbformat": 4,
 "nbformat_minor": 4
}
