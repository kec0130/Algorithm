{
 "cells": [
  {
   "cell_type": "code",
   "execution_count": null,
   "metadata": {},
   "outputs": [],
   "source": [
    "def solution(a, b):\n",
    "    sum = 0\n",
    "    if a == b:\n",
    "        return a\n",
    "    elif a < b:\n",
    "        for i in range(a, b+1):\n",
    "            sum += i\n",
    "    else:\n",
    "        for i in range(b, a+1):\n",
    "            sum += i\n",
    "    return sum"
   ]
  },
  {
   "cell_type": "code",
   "execution_count": null,
   "metadata": {},
   "outputs": [],
   "source": [
    "def solution(a, b):\n",
    "    if a == b:\n",
    "        return a\n",
    "    else:\n",
    "        sum = 0\n",
    "        a, b = min(a, b), max(a, b)\n",
    "        for i in range(a, b+1):\n",
    "            sum += i\n",
    "        return sum"
   ]
  },
  {
   "cell_type": "code",
   "execution_count": null,
   "metadata": {},
   "outputs": [],
   "source": [
    "def adder(a, b):\n",
    "    if a > b:\n",
    "        a, b = b, a\n",
    "    return sum(range(a, b+1))"
   ]
  },
  {
   "cell_type": "code",
   "execution_count": null,
   "metadata": {},
   "outputs": [],
   "source": [
    "def adder(a, b):\n",
    "    return sum(range(min(a,b), max(a,b)+1))"
   ]
  }
 ],
 "metadata": {
  "kernelspec": {
   "display_name": "Python 3",
   "language": "python",
   "name": "python3"
  },
  "language_info": {
   "codemirror_mode": {
    "name": "ipython",
    "version": 3
   },
   "file_extension": ".py",
   "mimetype": "text/x-python",
   "name": "python",
   "nbconvert_exporter": "python",
   "pygments_lexer": "ipython3",
   "version": "3.7.6"
  },
  "toc": {
   "base_numbering": 1,
   "nav_menu": {},
   "number_sections": false,
   "sideBar": true,
   "skip_h1_title": false,
   "title_cell": "Contents",
   "title_sidebar": "Contents",
   "toc_cell": true,
   "toc_position": {},
   "toc_section_display": true,
   "toc_window_display": false
  }
 },
 "nbformat": 4,
 "nbformat_minor": 4
}
